{
 "cells": [
  {
   "cell_type": "code",
   "execution_count": 2,
   "id": "82b09894-def3-4583-9999-4d901b94e78a",
   "metadata": {},
   "outputs": [
    {
     "name": "stdout",
     "output_type": "stream",
     "text": [
      "^C\n"
     ]
    }
   ],
   "source": [
    "# 셀레니움 모듈 설치\n",
    "# 별도 터미널에서 진행\n",
    "# !conda install selenium -y"
   ]
  },
  {
   "cell_type": "code",
   "execution_count": 5,
   "id": "a96d1294-4167-4be7-86c4-49353b928f8d",
   "metadata": {},
   "outputs": [],
   "source": [
    "# 셀레니움 모듈 가져오기(웹드라이버만)\n",
    "from selenium import webdriver as wd\n",
    "# 시간 \n",
    "import time"
   ]
  },
  {
   "cell_type": "code",
   "execution_count": 10,
   "id": "23dfa219-0a41-4db4-9bc7-d4b226f44df7",
   "metadata": {},
   "outputs": [],
   "source": [
    "# 웹드라이버 프로그램 준비\n",
    "# 통상 크롬을 사용한다면, 개발 PC에 설치된 크롬 버전과 동일한 웹드라이버 획득\n",
    "# 현재 108.0.5359.125(공식 빌드) (64비트)\n",
    "# https://chromedriver.chromium.org/downloads 접속 \n",
    "# 웹드라이버 가동 (상대경로 않되면 절대경로로 변경해서 시도)\n",
    "# driver = wd.Chrome('./chromedriver.exe')\n",
    "\n",
    "driver = wd.Chrome('C://Users//USER//Desktop//Py_Projects//selenium_level4//chromedriver.exe')"
   ]
  },
  {
   "cell_type": "code",
   "execution_count": null,
   "id": "20b4656c-7114-44ac-821c-9eae362bc745",
   "metadata": {},
   "outputs": [],
   "source": [
    "# 접속\n",
    "driver.get('https://www.starbucks.co.kr/store/store_map.do?disp=locale')"
   ]
  }
 ],
 "metadata": {
  "kernelspec": {
   "display_name": "Python 3 (ipykernel)",
   "language": "python",
   "name": "python3"
  },
  "language_info": {
   "codemirror_mode": {
    "name": "ipython",
    "version": 3
   },
   "file_extension": ".py",
   "mimetype": "text/x-python",
   "name": "python",
   "nbconvert_exporter": "python",
   "pygments_lexer": "ipython3",
   "version": "3.9.13"
  }
 },
 "nbformat": 4,
 "nbformat_minor": 5
}
