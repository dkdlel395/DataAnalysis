{
 "cells": [
  {
   "attachments": {},
   "cell_type": "markdown",
   "metadata": {},
   "source": [
    "# 목적\n",
    "\n",
    "    - 데이터가 바이너리(엑셀) 형식으로 제공되면 파일형태로 다운로드후 수집 처리\n",
    "    - 석유공사에서 제공하는 실시간 주유가격 사이트에서 지역별 가격 데이터 획득\n",
    "    - 사이트는 시도 선택 -> 시군구 선택 -> 엑셀 저장 버튼 클릭후 다운로드된다\n",
    "        - 엑셀을 다 모으면 파이썬에서 모든 파일을 읽어서 하나의 df로 구성 -> 저장\n",
    "        - 모든 데이터 저장이 완료되면 엑셀 파일을 이동 혹은 삭제\n",
    "    - ajax로 각 구간 통신이 진행된다 -> LEVEL 4 수준의 selenium 사용\n",
    "    - 빈도 주기는 1일 1회 진행\n",
    "        - 변경시간에 맞춰서 주기를 맞추면 된다"
   ]
  },
  {
   "attachments": {},
   "cell_type": "markdown",
   "metadata": {},
   "source": [
    "# step1 \n",
    "\n",
    "    - 데이터를 수집하는 사이트까지 웹드라이버 가동후 페이지 접속하시오\n",
    "    - https://www.opinet.co.kr/searRgSelect.do"
   ]
  },
  {
   "cell_type": "code",
   "execution_count": 1,
   "metadata": {},
   "outputs": [],
   "source": [
    "import pandas as pd\n",
    "import sys\n",
    "from selenium import webdriver as wd\n",
    "import time\n",
    "import random"
   ]
  },
  {
   "cell_type": "code",
   "execution_count": 18,
   "metadata": {},
   "outputs": [
    {
     "data": {
      "text/plain": [
       "'3.141.0'"
      ]
     },
     "execution_count": 18,
     "metadata": {},
     "output_type": "execute_result"
    }
   ],
   "source": [
    "import selenium\n",
    "\n",
    "selenium.__version__"
   ]
  },
  {
   "cell_type": "code",
   "execution_count": 2,
   "metadata": {},
   "outputs": [],
   "source": [
    "driver = wd.Chrome(\n",
    "    'C://Users//USER//Desktop//Py_Projects//selenium_level4//chromedriver.exe')"
   ]
  },
  {
   "cell_type": "code",
   "execution_count": 4,
   "metadata": {},
   "outputs": [],
   "source": [
    "# 초기에 서브 페이지 접속을 거부하는 사이트도 있다 => 시간 텀을 두고 연속 접속 시도\n",
    "target_site = 'https://www.opinet.co.kr/searRgSelect.do'\n",
    "driver.get( target_site )\n",
    "time.sleep(2)\n",
    "driver.get( target_site )"
   ]
  },
  {
   "attachments": {},
   "cell_type": "markdown",
   "metadata": {},
   "source": [
    "# step 2\n",
    "\n",
    "    - 시도 select 태그를 찾아서 그밑에 시도를 표현하는 option태그의 value값들을 추출한다\n",
    "    - #SIDO_NM0 > option"
   ]
  },
  {
   "cell_type": "code",
   "execution_count": 9,
   "metadata": {},
   "outputs": [],
   "source": [
    "sidos = driver.find_elements_by_css_selector('#SIDO_NM0 > option')\n",
    "# 프럼프트 1개 + 실제 데이터 17개\n",
    "len(sidos)\n",
    "for sido in sidos:\n",
    "    # sido => <option ....>\n",
    "    # 태그에서 속성값 추출할대 사용 : selenium에서는 get_attribute('value') <-> BS4에서는 get('value')\n",
    "    name = sido.get_attribute('value').strip()\n",
    "    if name:\n",
    "        print( name )"
   ]
  },
  {
   "cell_type": "code",
   "execution_count": 13,
   "metadata": {},
   "outputs": [
    {
     "data": {
      "text/plain": [
       "17"
      ]
     },
     "execution_count": 13,
     "metadata": {},
     "output_type": "execute_result"
    }
   ],
   "source": [
    "sidos = [   sido.get_attribute('value').strip()\n",
    "            for sido in driver.find_elements_by_css_selector('#SIDO_NM0 > option')\n",
    "            if sido.get_attribute('value').strip()\n",
    "        ]\n",
    "len( sidos )"
   ]
  },
  {
   "cell_type": "code",
   "execution_count": 14,
   "metadata": {},
   "outputs": [
    {
     "data": {
      "text/plain": [
       "'경기도'"
      ]
     },
     "execution_count": 14,
     "metadata": {},
     "output_type": "execute_result"
    }
   ],
   "source": [
    "sidos[8]"
   ]
  },
  {
   "attachments": {},
   "cell_type": "markdown",
   "metadata": {},
   "source": [
    "#  step3\n",
    "\n",
    "    - 특정 시도 선택\n",
    "    - send_keys() => 입력 계열의 모든 태그들에게 값을 설정할때 사용\n",
    "        - input, select, textarea, checkbox, radio(?)"
   ]
  },
  {
   "cell_type": "code",
   "execution_count": 15,
   "metadata": {},
   "outputs": [],
   "source": [
    "# 해당 시도를 선택 하는 이벤트 강제 발생\n",
    "# 사람이 select 태그를 선택하면 select 태그의 value가 변경 \n",
    "# -> 이벤트를 감지해서 -> ajax -> 시군구 전달 -> 화면 변경 : 5초대기\n",
    "# ajax => cross domain이 처리를 기본적을 막는다(보안에 위배)\n",
    "# 1. select 태그 특정\n",
    "select_sido = driver.find_element_by_id('SIDO_NM0')\n",
    "# 2. 값변경\n",
    "select_sido.send_keys( sidos[8] )"
   ]
  },
  {
   "cell_type": "code",
   "execution_count": 17,
   "metadata": {},
   "outputs": [
    {
     "name": "stdout",
     "output_type": "stream",
     "text": [
      "서울특별시\n",
      "부산광역시\n",
      "대구광역시\n",
      "인천광역시\n",
      "광주광역시\n",
      "대전광역시\n",
      "울산광역시\n",
      "세종특별자치시\n",
      "경기도\n",
      "강원도\n",
      "충청북도\n",
      "충청남도\n",
      "전라북도\n",
      "전라남도\n",
      "경상북도\n",
      "경상남도\n",
      "제주특별자치도\n"
     ]
    }
   ],
   "source": [
    "# 전국 17개 시도를 돌면서 값변경(시도값) 진행\n",
    "for sido in sidos:\n",
    "    # 화면 조작시 그 대상이되면 메모리 주소가 변경된다 -> 알수없으므로 -> 매번 안전하게 획득\n",
    "    select_sido = driver.find_element_by_id('SIDO_NM0')\n",
    "    select_sido.send_keys( sido )\n",
    "    time.sleep(5)\n",
    "    print( sido )"
   ]
  },
  {
   "attachments": {},
   "cell_type": "markdown",
   "metadata": {},
   "source": [
    "# step4\n",
    "    - 시군구값들중 하나 선택\n",
    "    - 잠시후\n",
    "    - 엑셀저장 클릭"
   ]
  },
  {
   "cell_type": "code",
   "execution_count": 30,
   "metadata": {},
   "outputs": [
    {
     "data": {
      "text/plain": [
       "25"
      ]
     },
     "execution_count": 30,
     "metadata": {},
     "output_type": "execute_result"
    }
   ],
   "source": [
    "# 1차로 서울시의 자치구 이름(값)을 추출한다\n",
    "sigungus = driver.find_elements_by_css_selector('#SIGUNGU_NM0 > option')\n",
    "\n",
    "gus = list()\n",
    "for sigungu in sigungus:\n",
    "    gu = sigungu.get_attribute('value')\n",
    "    if gu:\n",
    "        gus.append( gu )\n",
    "\n",
    "len(gus)"
   ]
  },
  {
   "cell_type": "code",
   "execution_count": 31,
   "metadata": {},
   "outputs": [
    {
     "name": "stdout",
     "output_type": "stream",
     "text": [
      "강남구\n",
      "강동구\n",
      "강북구\n",
      "강서구\n",
      "관악구\n",
      "광진구\n",
      "구로구\n",
      "금천구\n",
      "노원구\n",
      "도봉구\n",
      "동대문구\n",
      "동작구\n",
      "마포구\n",
      "서대문구\n",
      "서초구\n",
      "성동구\n",
      "성북구\n",
      "송파구\n",
      "양천구\n",
      "영등포구\n",
      "용산구\n",
      "은평구\n",
      "종로구\n",
      "중구\n",
      "중랑구\n"
     ]
    }
   ],
   "source": [
    "# 자치구 이름을 하나씩 추출\n",
    "for gu in gus:    \n",
    "    print( gu )\n",
    "    # 해당 구 바로 선택 -> 값변경 -> 화면껌벅(form 전송됨) -> 해당구의 주유소 정보 세팅된다 :대기\n",
    "    driver.find_element_by_id('SIGUNGU_NM0').send_keys( gu )\n",
    "    time.sleep(10)\n",
    "    # 클릭(엑셀 저장 버튼)\n",
    "    driver.find_element_by_id('glopopd_excel').click()\n",
    "    #break"
   ]
  },
  {
   "attachments": {},
   "cell_type": "markdown",
   "metadata": {},
   "source": [
    "# step5\n",
    "    - 엑셀들을 다 모아서 읽어서 df로 구성"
   ]
  },
  {
   "cell_type": "code",
   "execution_count": 33,
   "metadata": {},
   "outputs": [
    {
     "data": {
      "text/plain": [
       "(25, 'C://Users//USER//Downloads\\\\지역_위치별(주유소) (1).xls')"
      ]
     },
     "execution_count": 33,
     "metadata": {},
     "output_type": "execute_result"
    }
   ],
   "source": [
    "# 특정 폴더에 특정 형식의 파일들을 다 모아라(경로 + 이름(파일명))\n",
    "import glob\n",
    "\n",
    "files = glob.glob('C://Users//USER//Downloads//*.xls')\n",
    "len(files), files[0]"
   ]
  },
  {
   "attachments": {},
   "cell_type": "markdown",
   "metadata": {},
   "source": [
    "# xls -> DataFrame\n"
   ]
  },
  {
   "cell_type": "code",
   "execution_count": 38,
   "metadata": {},
   "outputs": [
    {
     "data": {
      "text/plain": [
       "25"
      ]
     },
     "execution_count": 38,
     "metadata": {},
     "output_type": "execute_result"
    }
   ],
   "source": [
    "import pandas as pd\n",
    "\n",
    "# 상위 row 데이터 2개는 skip, 3번째 row 컬럼, 4번째부터 데이터\n",
    "\n",
    "# df들을 담는 그릇\n",
    "tmp = list()\n",
    "# 파일 목록에서 파일 1개씩 추출\n",
    "for file in files:\n",
    "    # 파일 읽어서 -> df 생성 -> 그릇에 담는다\n",
    "    tmp.append( pd.read_excel( file, header=2 ) )\n",
    "# 총개수\n",
    "len(tmp)\n",
    "\n",
    "# df 25개를 생성 하여 1개의 df로 병합"
   ]
  },
  {
   "cell_type": "code",
   "execution_count": 39,
   "metadata": {},
   "outputs": [
    {
     "data": {
      "text/plain": [
       "(443, 10)"
      ]
     },
     "execution_count": 39,
     "metadata": {},
     "output_type": "execute_result"
    }
   ],
   "source": [
    "# df를 하나로 합치기\n",
    "full_df = pd.concat(tmp)\n",
    "full_df.shape\n",
    "# 서울시 주유소는 총 443개 존재한다, 10개의 속성(컬럼, 특징)을 표현한것"
   ]
  },
  {
   "cell_type": "code",
   "execution_count": 40,
   "metadata": {},
   "outputs": [
    {
     "data": {
      "text/html": [
       "<div>\n",
       "<style scoped>\n",
       "    .dataframe tbody tr th:only-of-type {\n",
       "        vertical-align: middle;\n",
       "    }\n",
       "\n",
       "    .dataframe tbody tr th {\n",
       "        vertical-align: top;\n",
       "    }\n",
       "\n",
       "    .dataframe thead th {\n",
       "        text-align: right;\n",
       "    }\n",
       "</style>\n",
       "<table border=\"1\" class=\"dataframe\">\n",
       "  <thead>\n",
       "    <tr style=\"text-align: right;\">\n",
       "      <th></th>\n",
       "      <th>지역</th>\n",
       "      <th>상호</th>\n",
       "      <th>주소</th>\n",
       "      <th>상표</th>\n",
       "      <th>전화번호</th>\n",
       "      <th>셀프여부</th>\n",
       "      <th>고급휘발유</th>\n",
       "      <th>휘발유</th>\n",
       "      <th>경유</th>\n",
       "      <th>실내등유</th>\n",
       "    </tr>\n",
       "  </thead>\n",
       "  <tbody>\n",
       "    <tr>\n",
       "      <th>0</th>\n",
       "      <td>서울특별시</td>\n",
       "      <td>재건에너지 재정제2주유소 고속셀프지점</td>\n",
       "      <td>서울특별시 강동구  천호대로 1246 (둔촌제2동)</td>\n",
       "      <td>현대오일뱅크</td>\n",
       "      <td>02-487-2030</td>\n",
       "      <td>Y</td>\n",
       "      <td>-</td>\n",
       "      <td>1539</td>\n",
       "      <td>1742</td>\n",
       "      <td>-</td>\n",
       "    </tr>\n",
       "  </tbody>\n",
       "</table>\n",
       "</div>"
      ],
      "text/plain": [
       "      지역                    상호                            주소      상표  \\\n",
       "0  서울특별시  재건에너지 재정제2주유소 고속셀프지점  서울특별시 강동구  천호대로 1246 (둔촌제2동)  현대오일뱅크   \n",
       "\n",
       "          전화번호 셀프여부 고급휘발유   휘발유    경유 실내등유  \n",
       "0  02-487-2030    Y     -  1539  1742    -  "
      ]
     },
     "execution_count": 40,
     "metadata": {},
     "output_type": "execute_result"
    }
   ],
   "source": [
    "full_df.head(1)"
   ]
  },
  {
   "cell_type": "code",
   "execution_count": null,
   "metadata": {},
   "outputs": [],
   "source": []
  }
 ],
 "metadata": {
  "kernelspec": {
   "display_name": "base",
   "language": "python",
   "name": "python3"
  },
  "language_info": {
   "codemirror_mode": {
    "name": "ipython",
    "version": 3
   },
   "file_extension": ".py",
   "mimetype": "text/x-python",
   "name": "python",
   "nbconvert_exporter": "python",
   "pygments_lexer": "ipython3",
   "version": "3.9.13"
  },
  "orig_nbformat": 4,
  "vscode": {
   "interpreter": {
    "hash": "263930470851f494f0ed2879c35b57985588df20f9e529b86e97dd5eb9ddc466"
   }
  }
 },
 "nbformat": 4,
 "nbformat_minor": 2
}
