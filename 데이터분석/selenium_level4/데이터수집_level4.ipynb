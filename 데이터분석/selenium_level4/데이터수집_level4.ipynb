{
 "cells": [
  {
   "cell_type": "code",
   "execution_count": 2,
   "id": "82b09894-def3-4583-9999-4d901b94e78a",
   "metadata": {},
   "outputs": [
    {
     "name": "stdout",
     "output_type": "stream",
     "text": [
      "^C\n"
     ]
    }
   ],
   "source": [
    "# 셀레니움 모듈 설치\n",
    "# 별도 터미널에서 진행\n",
    "# https://selenium-python.readthedocs.io/\n",
    "# !conda install selenium -y"
   ]
  },
  {
   "attachments": {},
   "cell_type": "markdown",
   "id": "d616d93c",
   "metadata": {},
   "source": [
    "# 웹 드라이버 가동및 지점 정보 접근 루트 확보"
   ]
  },
  {
   "cell_type": "code",
   "execution_count": 5,
   "id": "4878f003-8bce-4ffa-8b2c-efa9e6b05e62",
   "metadata": {},
   "outputs": [
    {
     "data": {
      "text/plain": [
       "'3.141.0'"
      ]
     },
     "execution_count": 5,
     "metadata": {},
     "output_type": "execute_result"
    }
   ],
   "source": [
    "import selenium\n",
    "\n",
    "# 라이브러리 버전 체크 변수\n",
    "selenium.__version__"
   ]
  },
  {
   "cell_type": "code",
   "execution_count": 6,
   "id": "a96d1294-4167-4be7-86c4-49353b928f8d",
   "metadata": {},
   "outputs": [],
   "source": [
    "# 셀레니움 모듈 가져오기(웹드라이버만)\n",
    "from selenium import webdriver as wd\n",
    "# 시간 \n",
    "import time"
   ]
  },
  {
   "cell_type": "code",
   "execution_count": 7,
   "id": "23dfa219-0a41-4db4-9bc7-d4b226f44df7",
   "metadata": {},
   "outputs": [],
   "source": [
    "# 웹드라이버 프로그램 준비\n",
    "# 통상 크롬을 사용한다면, 개발 PC에 설치된 크롬 버전과 동일한 웹드라이버 획득\n",
    "# 현재 108.0.5359.125(공식 빌드) (64비트)\n",
    "# https://chromedriver.chromium.org/downloads 접속 \n",
    "# 웹드라이버 가동 (상대경로 않되면 절대경로로 변경해서 시도)\n",
    "# driver = wd.Chrome('./chromedriver.exe')\n",
    "\n",
    "driver = wd.Chrome('C://Users//USER//Desktop//Py_Projects//selenium_level4//chromedriver.exe')"
   ]
  },
  {
   "cell_type": "code",
   "execution_count": 8,
   "id": "20b4656c-7114-44ac-821c-9eae362bc745",
   "metadata": {},
   "outputs": [],
   "source": [
    "# 접속\n",
    "# 사이트가 로딩되는 속도가 천차 만별이다\n",
    "# 로딩이 완료되었는지 검사하는 루틴이 필요 -> 암묵적 대기\n",
    "# 귀찮으면 명시적으로 특정 시간을 대기하면 된다\n",
    "driver.get('https://www.starbucks.co.kr/store/store_map.do?disp=locale')\n",
    "\n",
    "# 강제로 10초 대기(명시적 대기)\n",
    "time.sleep(1*5)"
   ]
  },
  {
   "cell_type": "code",
   "execution_count": 9,
   "id": "bbca5522-dfb3-400c-a880-27b2fef684f6",
   "metadata": {},
   "outputs": [],
   "source": [
    "# 시도를 특정한다\n",
    "# 주관적으로 수행했는데 반복성이 않보여서, 기계적으로 생성\n",
    "# 세레니움 css selector가 간혹 잘 않될때도 있어서 잘 되는 표현으로 사용\n",
    "'''\n",
    "div.loca_step1_cont > ul > li:nth-child(1) > a\n",
    "'''\n",
    "# 서울 클릭\n",
    "css_sel = 'div.loca_step1_cont > ul > li:nth-child(1) > a'\n",
    "si_do_a_tag = driver.find_element_by_css_selector( css_sel )\n",
    "si_do_a_tag.click()\n",
    "\n",
    "time.sleep(1*3)"
   ]
  },
  {
   "cell_type": "code",
   "execution_count": 10,
   "id": "699baf6a-bb44-4b43-a856-0e697258cefe",
   "metadata": {},
   "outputs": [],
   "source": [
    "# 시군구 클릭\n",
    "# 서울 > 중구 클릭 실행 => 전체가 있다 => 전체 클릭으로 변경\n",
    "# #mCSB_2_container > ul > li:nth-child(1) > a\n",
    "css_sel = '#mCSB_2_container > ul > li:nth-child(1) > a'\n",
    "driver.find_element_by_css_selector( css_sel ).click()\n",
    "\n",
    "time.sleep(1*3)"
   ]
  },
  {
   "cell_type": "markdown",
   "id": "fef66f43-165e-4cdd-a2a8-2248b833872d",
   "metadata": {},
   "source": [
    "- 최족 목적 페이지까지 로드되면, 셀레이눔으로 처리할지, BS4로 처리할지 결정 필요"
   ]
  },
  {
   "attachments": {},
   "cell_type": "markdown",
   "id": "4144cf3e",
   "metadata": {},
   "source": [
    "# 셀레니움으로 지점 정보 추출"
   ]
  },
  {
   "cell_type": "code",
   "execution_count": 11,
   "id": "e8ca531b-646b-4e1d-9b04-f5b2ffa6ae96",
   "metadata": {},
   "outputs": [
    {
     "data": {
      "text/plain": [
       "598"
      ]
     },
     "execution_count": 11,
     "metadata": {},
     "output_type": "execute_result"
    }
   ],
   "source": [
    "# 셀레니움\n",
    "len( driver.find_elements_by_css_selector('#mCSB_3_container > ul > li') )"
   ]
  },
  {
   "attachments": {},
   "cell_type": "markdown",
   "id": "5f324016",
   "metadata": {},
   "source": [
    "# BeautifulSoup로 지점 정보 추출"
   ]
  },
  {
   "cell_type": "code",
   "execution_count": 12,
   "id": "4f7bbcd5-b5ae-4ab8-9152-b52a7ffe95b1",
   "metadata": {},
   "outputs": [],
   "source": [
    "# BS4\n",
    "from bs4 import BeautifulSoup\n",
    "src  = driver.page_source # 현재 페이지의 HTML 소스\n",
    "soup = BeautifulSoup( src, 'html5lib' )"
   ]
  },
  {
   "cell_type": "code",
   "execution_count": 14,
   "id": "c2285242-21a4-4b19-a196-63010ede2009",
   "metadata": {},
   "outputs": [
    {
     "data": {
      "text/plain": [
       "598"
      ]
     },
     "execution_count": 14,
     "metadata": {},
     "output_type": "execute_result"
    }
   ],
   "source": [
    "len( soup.select('.quickSearchResultBoxSidoGugun > li') )"
   ]
  },
  {
   "cell_type": "code",
   "execution_count": 30,
   "id": "fa4e50eb",
   "metadata": {},
   "outputs": [
    {
     "data": {
      "text/plain": [
       "(37.501087,)"
      ]
     },
     "execution_count": 30,
     "metadata": {},
     "output_type": "execute_result"
    }
   ],
   "source": [
    "# 좌우 공백은 내부적으로 자동처리해줌 => strip()은 미사용해도됨\n",
    "float( '37.501087   '  ), #float( None  )"
   ]
  },
  {
   "cell_type": "code",
   "execution_count": 32,
   "id": "8304b696-0212-43bf-a34f-80f574947a04",
   "metadata": {},
   "outputs": [
    {
     "data": {
      "text/plain": [
       "(598,\n",
       " {'name': '역삼아레나빌딩',\n",
       "  'lat': 37.501087,\n",
       "  'long': 127.043069,\n",
       "  'code': '3762',\n",
       "  'storecd': '1509',\n",
       "  'addr': '서울특별시 강남구 언주로 425 (역삼동)',\n",
       "  'spec': 'general'})"
      ]
     },
     "execution_count": 32,
     "metadata": {},
     "output_type": "execute_result"
    }
   ],
   "source": [
    "# 추출 정보 : 지점명, 위도, 경도, 주소\n",
    "starbucks_store_infos = list()\n",
    "for li in soup.select('.quickSearchResultBoxSidoGugun > li'):\n",
    "    starbucks_store_infos.append({\n",
    "        'name': li.get('data-name') , # 지점명, 속성값 추출 => 요소.get('속성이름')\n",
    "        'lat' : float( li.get('data-lat') ) ,   # 위도 -> float()\n",
    "        'long': float( li.get('data-long')) ,   # 경도 -> float() \n",
    "        'code': li.get('data-code') , # 지점코드\n",
    "        'storecd': li.get('data-storecd') ,                 # 관리코드(?)\n",
    "        'addr': li.p.text.strip()[:len('1522-3232')*-1] ,   # 전화번호가 모두 동일하다\n",
    "        'spec': li.i.get('class')[0][len('pin_'):]  # class는 속성값으로 뽑으면 리스트로 나온다(특징), pin_ 제거    \n",
    "    })\n",
    "    #break\n",
    "len( starbucks_store_infos ),starbucks_store_infos[0]"
   ]
  },
  {
   "cell_type": "code",
   "execution_count": 33,
   "id": "7731a360",
   "metadata": {},
   "outputs": [
    {
     "data": {
      "text/plain": [
       "(598,\n",
       " {'name': '중화역',\n",
       "  'lat': 37.60170912407773,\n",
       "  'long': 127.07841136432036,\n",
       "  'code': '3801',\n",
       "  'storecd': '1749',\n",
       "  'addr': '서울특별시 중랑구 봉화산로 35 ',\n",
       "  'spec': 'general'})"
      ]
     },
     "execution_count": 33,
     "metadata": {},
     "output_type": "execute_result"
    }
   ],
   "source": [
    "starbucks_store_infos = [ {\n",
    "        'name': li.get('data-name') , # 지점명, 속성값 추출 => 요소.get('속성이름')\n",
    "        'lat' : float( li.get('data-lat') ) ,   # 위도 -> float()\n",
    "        'long': float( li.get('data-long')) ,   # 경도 -> float() \n",
    "        'code': li.get('data-code') , # 지점코드\n",
    "        'storecd': li.get('data-storecd') ,                 # 관리코드(?)\n",
    "        'addr': li.p.text.strip()[:len('1522-3232')*-1] ,   # 전화번호가 모두 동일하다\n",
    "        'spec': li.i.get('class')[0][len('pin_'):]  # class는 속성값으로 뽑으면 리스트로 나온다(특징), pin_ 제거    \n",
    "} for li in soup.select('.quickSearchResultBoxSidoGugun > li') ]\n",
    "\n",
    "len(starbucks_store_infos), starbucks_store_infos[-1]"
   ]
  },
  {
   "attachments": {},
   "cell_type": "markdown",
   "id": "ef78d855",
   "metadata": {},
   "source": [
    "# 전국 지점 데이터 획득"
   ]
  },
  {
   "attachments": {},
   "cell_type": "markdown",
   "id": "30971a32",
   "metadata": {},
   "source": [
    "- 전개 순서\n",
    "    - 시도 개수만큼 반복(17) => 사전 조사를 통해서 반복횟수를 결정했다\n",
    "        - https://www.starbucks.co.kr/store/store_map.do?disp=locale 접속\n",
    "            - 난수*5초대기\n",
    "        - 시도 선택\n",
    "            - 난수*5초대기\n",
    "        - 전체 선택\n",
    "            - 난수*5초대기\n",
    "        - 추출\n",
    "            - 난수*1초대기\n",
    "    - 난수를 사용해서 대기시간을 미세하게 조정해주면, 반복적으로 데이터 수집해 상대방 사이트에서 패턴이 잡히지 않는다"
   ]
  },
  {
   "cell_type": "code",
   "execution_count": 41,
   "id": "6c471219",
   "metadata": {},
   "outputs": [
    {
     "data": {
      "text/plain": [
       "5.1"
      ]
     },
     "execution_count": 41,
     "metadata": {},
     "output_type": "execute_result"
    }
   ],
   "source": [
    "import random\n",
    "\n",
    "term_make = lambda x, y:random.randint(x,y)*0.1 # 0.1 ~ 0.9\n",
    "1*5 + term_make(1,5)"
   ]
  },
  {
   "cell_type": "code",
   "execution_count": 47,
   "id": "31eede98",
   "metadata": {},
   "outputs": [
    {
     "data": {
      "text/plain": [
       "1016"
      ]
     },
     "execution_count": 47,
     "metadata": {},
     "output_type": "execute_result"
    }
   ],
   "source": [
    "from bs4 import BeautifulSoup\n",
    "\n",
    "# 모든 지점의 정보를 담는 그릇\n",
    "starbucks_store_infos = list()\n",
    "\n",
    "for sido_idx in range(1, 17+1):\n",
    "    # 초기 진입 사이트 접속\n",
    "    driver.get('https://www.starbucks.co.kr/store/store_map.do?disp=locale')\n",
    "    time.sleep(1*5 + term_make(1,5))\n",
    "\n",
    "    # 시도 선택\n",
    "    css_sel     = f'div.loca_step1_cont > ul > li:nth-child({sido_idx}) > a'\n",
    "    si_do_a_tag = driver.find_element_by_css_selector( css_sel )\n",
    "    si_do_a_tag.click()\n",
    "    time.sleep(1*5 + term_make(1,5))\n",
    "\n",
    "    # 전체 선택, 1번 맴버가 무조건 전체이다 -> 고정\n",
    "    css_sel     = '#mCSB_2_container > ul > li:nth-child(1) > a'\n",
    "    driver.find_element_by_css_selector( css_sel ).click()\n",
    "    # 로딩 속도에 따라 반응이 다르게 온다 => 보수적으로 10초 결정\n",
    "    time.sleep(1*10 + term_make(1,5))\n",
    "\n",
    "    # soup(DOM Tree) 생성\n",
    "    src  = driver.page_source # 현재 페이지의 HTML 소스\n",
    "    soup = BeautifulSoup( src, 'html5lib' )\n",
    "    # 정보추출\n",
    "    starbucks_store_local_infos = [ {\n",
    "        'name': li.get('data-name') , # 지점명, 속성값 추출 => 요소.get('속성이름')\n",
    "        'lat' : float( li.get('data-lat') ) ,   # 위도 -> float()\n",
    "        'long': float( li.get('data-long')) ,   # 경도 -> float() \n",
    "        'code': li.get('data-code') , # 지점코드\n",
    "        'storecd': li.get('data-storecd') ,                 # 관리코드(?)\n",
    "        'addr': li.p.text.strip()[:len('1522-3232')*-1] ,   # 전화번호가 모두 동일하다\n",
    "        'spec': li.i.get('class')[0][len('pin_'):]  # class는 속성값으로 뽑으면 리스트로 나온다(특징), pin_ 제거    \n",
    "    } for li in soup.select('.quickSearchResultBoxSidoGugun > li') ]\n",
    "\n",
    "    # starbucks_store_infos에 starbucks_store_local_infos값 하나하나를 맴버로 추가한다\n",
    "    starbucks_store_infos.extend( starbucks_store_local_infos )\n",
    "\n",
    "    # 샘플 1개만 작동잘되는지 체크\n",
    "    if sido_idx==2:\n",
    "        break\n",
    "\n",
    "len(starbucks_store_infos) # 598 + 418"
   ]
  },
  {
   "cell_type": "code",
   "execution_count": 46,
   "id": "5f8a3fd9",
   "metadata": {},
   "outputs": [
    {
     "data": {
      "text/plain": [
       "[1, 2, 3, 4]"
      ]
     },
     "execution_count": 46,
     "metadata": {},
     "output_type": "execute_result"
    }
   ],
   "source": [
    "a = []\n",
    "b = [1,2]\n",
    "c = [3,4]\n",
    "#a.append(b) # [[1, 2]]\n",
    "a.extend(b)  # [1, 2]\n",
    "a.extend(c)  # [1, 2, 3, 4]\n",
    "a\n"
   ]
  },
  {
   "cell_type": "code",
   "execution_count": 51,
   "id": "08dedf33",
   "metadata": {},
   "outputs": [
    {
     "data": {
      "text/html": [
       "<div>\n",
       "<style scoped>\n",
       "    .dataframe tbody tr th:only-of-type {\n",
       "        vertical-align: middle;\n",
       "    }\n",
       "\n",
       "    .dataframe tbody tr th {\n",
       "        vertical-align: top;\n",
       "    }\n",
       "\n",
       "    .dataframe thead th {\n",
       "        text-align: right;\n",
       "    }\n",
       "</style>\n",
       "<table border=\"1\" class=\"dataframe\">\n",
       "  <thead>\n",
       "    <tr style=\"text-align: right;\">\n",
       "      <th></th>\n",
       "      <th>name</th>\n",
       "      <th>lat</th>\n",
       "      <th>long</th>\n",
       "      <th>code</th>\n",
       "      <th>storecd</th>\n",
       "      <th>addr</th>\n",
       "      <th>spec</th>\n",
       "    </tr>\n",
       "  </thead>\n",
       "  <tbody>\n",
       "    <tr>\n",
       "      <th>0</th>\n",
       "      <td>역삼아레나빌딩</td>\n",
       "      <td>37.501087</td>\n",
       "      <td>127.043069</td>\n",
       "      <td>3762</td>\n",
       "      <td>1509</td>\n",
       "      <td>서울특별시 강남구 언주로 425 (역삼동)</td>\n",
       "      <td>general</td>\n",
       "    </tr>\n",
       "    <tr>\n",
       "      <th>1</th>\n",
       "      <td>논현역사거리</td>\n",
       "      <td>37.510178</td>\n",
       "      <td>127.022223</td>\n",
       "      <td>3672</td>\n",
       "      <td>1434</td>\n",
       "      <td>서울특별시 강남구 강남대로 538 (논현동)</td>\n",
       "      <td>general</td>\n",
       "    </tr>\n",
       "  </tbody>\n",
       "</table>\n",
       "</div>"
      ],
      "text/plain": [
       "      name        lat        long  code storecd                      addr  \\\n",
       "0  역삼아레나빌딩  37.501087  127.043069  3762    1509   서울특별시 강남구 언주로 425 (역삼동)   \n",
       "1   논현역사거리  37.510178  127.022223  3672    1434  서울특별시 강남구 강남대로 538 (논현동)   \n",
       "\n",
       "      spec  \n",
       "0  general  \n",
       "1  general  "
      ]
     },
     "execution_count": 51,
     "metadata": {},
     "output_type": "execute_result"
    }
   ],
   "source": [
    "# df 변환\n",
    "import pandas as pd\n",
    "\n",
    "df = pd.DataFrame.from_dict( starbucks_store_infos )\n",
    "df.head(2)"
   ]
  },
  {
   "cell_type": "code",
   "execution_count": 52,
   "id": "fc70e9dd",
   "metadata": {},
   "outputs": [],
   "source": [
    "# csv 저장 : dataFrame -> csv 저장\n",
    "df.to_csv('starbucks_store.csv', index=False)"
   ]
  },
  {
   "cell_type": "code",
   "execution_count": 53,
   "id": "2f6bd062",
   "metadata": {},
   "outputs": [],
   "source": [
    "df.to_excel('starbucks_store.xlsx', index=False)"
   ]
  },
  {
   "cell_type": "code",
   "execution_count": 48,
   "id": "2fe1cc9b-f6f1-450f-b342-ea494250fd41",
   "metadata": {},
   "outputs": [],
   "source": [
    "# 브라우저 닫기\n",
    "driver.close()\n",
    "driver.quit()\n",
    "\n",
    "# 파이썬 파일에서 사용\n",
    "# import sys\n",
    "# sys.exit(0)"
   ]
  },
  {
   "cell_type": "code",
   "execution_count": null,
   "id": "cae9bcf7-711c-40ed-907e-7ca0023cb802",
   "metadata": {},
   "outputs": [],
   "source": []
  }
 ],
 "metadata": {
  "kernelspec": {
   "display_name": "base",
   "language": "python",
   "name": "python3"
  },
  "language_info": {
   "codemirror_mode": {
    "name": "ipython",
    "version": 3
   },
   "file_extension": ".py",
   "mimetype": "text/x-python",
   "name": "python",
   "nbconvert_exporter": "python",
   "pygments_lexer": "ipython3",
   "version": "3.11.3"
  },
  "vscode": {
   "interpreter": {
    "hash": "263930470851f494f0ed2879c35b57985588df20f9e529b86e97dd5eb9ddc466"
   }
  }
 },
 "nbformat": 4,
 "nbformat_minor": 5
}
